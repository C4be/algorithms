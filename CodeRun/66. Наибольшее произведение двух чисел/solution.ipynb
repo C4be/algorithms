{
 "cells": [
  {
   "cell_type": "markdown",
   "metadata": {},
   "source": [
    "# 66. Наибольшее произведение двух чисел"
   ]
  },
  {
   "cell_type": "code",
   "execution_count": null,
   "metadata": {},
   "outputs": [
    {
     "name": "stdout",
     "output_type": "stream",
     "text": [
      "-5 -3\n"
     ]
    }
   ],
   "source": [
    "data = list(map(int, input().split()))\n",
    "# print(data)\n",
    "\n",
    "n1, n2 = 1_000_001, 1_000_001\n",
    "p1, p2 = -1_000_001, -1_000_001\n",
    "\n",
    "for el in data:\n",
    "    if el <= 0:\n",
    "        # negative\n",
    "        if el <= n1:\n",
    "            n2 = n1\n",
    "            n1 = el\n",
    "        elif el < n2:\n",
    "            n2 = el\n",
    "    else:\n",
    "        # positive\n",
    "        if el >= p1:\n",
    "            p2 = p1\n",
    "            p1 = el\n",
    "        elif el > p2:\n",
    "            p2 = el\n",
    "    # print(p1, p2, n1, n2)\n",
    "\n",
    "p_norm = []\n",
    "for el in p1,p2:\n",
    "    if abs(el) != 1_000_001:\n",
    "        p_norm.append(el)\n",
    "        \n",
    "n_norm = []\n",
    "for el in n1,n2:\n",
    "    if abs(el) != 1_000_001:\n",
    "        n_norm.append(el)\n",
    "        \n",
    "pm = 0\n",
    "if len(p_norm) == 2:\n",
    "    pm = p_norm[0] * p_norm[1]\n",
    "\n",
    "nm = 0\n",
    "if len(n_norm) == 2:\n",
    "    nm = n_norm[0] * n_norm[1]\n",
    "\n",
    "if pm > nm:\n",
    "    print(min(p_norm), max(p_norm))\n",
    "elif nm > pm:\n",
    "    print(min(n_norm), max(n_norm))\n",
    "else:\n",
    "    another = 0\n",
    "    if len(p_norm) == 1 and len(n_norm) == 1:\n",
    "        print(n_norm[0], p_norm[0])\n",
    "\n"
   ]
  }
 ],
 "metadata": {
  "kernelspec": {
   "display_name": ".venv",
   "language": "python",
   "name": "python3"
  },
  "language_info": {
   "codemirror_mode": {
    "name": "ipython",
    "version": 3
   },
   "file_extension": ".py",
   "mimetype": "text/x-python",
   "name": "python",
   "nbconvert_exporter": "python",
   "pygments_lexer": "ipython3",
   "version": "3.9.6"
  }
 },
 "nbformat": 4,
 "nbformat_minor": 2
}
