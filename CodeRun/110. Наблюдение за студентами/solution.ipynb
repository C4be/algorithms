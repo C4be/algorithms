{
 "cells": [
  {
   "cell_type": "code",
   "execution_count": 13,
   "metadata": {},
   "outputs": [
    {
     "name": "stdout",
     "output_type": "stream",
     "text": [
      "10 2\n",
      "(1, 1) (1, 2)\n"
     ]
    }
   ],
   "source": [
    "file = 'ds2.txt'\n",
    "with open(file, 'r') as f:\n",
    "    N, M = map(int, f.readline().strip().split())\n",
    "    ranges = [tuple(map(int, line.strip().split())) for line in f.readlines()]\n",
    "\n",
    "print(N, M)\n",
    "print(*ranges)"
   ]
  },
  {
   "cell_type": "code",
   "execution_count": null,
   "metadata": {},
   "outputs": [
    {
     "name": "stdout",
     "output_type": "stream",
     "text": [
      "1 1 0\n",
      "1 2 0\n",
      "Учеников, кто списывает: 8\n"
     ]
    }
   ],
   "source": [
    "ranges.sort()\n",
    "\n",
    "cnt_covered = 0\n",
    "current_begin, current_end = -1, -1\n",
    "\n",
    "for begin, end in ranges:\n",
    "    if begin > current_end + 1:\n",
    "        # непересекаются\n",
    "        if current_begin != -1:\n",
    "            cnt_covered += current_end - current_begin + 1\n",
    "        current_begin, current_end = begin, end\n",
    "        \n",
    "    else:\n",
    "        # Пересекаются\n",
    "        current_end = max(current_end, end)\n",
    "        \n",
    "    print(current_begin, current_end, cnt_covered)\n",
    "\n",
    "# последний блок\n",
    "if current_begin != -1:\n",
    "    cnt_covered += current_end - current_begin + 1\n",
    "    \n",
    "print(f'Учеников, кто списывает: {N - cnt_covered}')\n",
    "    "
   ]
  },
  {
   "cell_type": "code",
   "execution_count": null,
   "metadata": {},
   "outputs": [
    {
     "name": "stdout",
     "output_type": "stream",
     "text": [
      "8\n"
     ]
    }
   ],
   "source": []
  },
  {
   "cell_type": "code",
   "execution_count": null,
   "metadata": {},
   "outputs": [],
   "source": [
    "import sys\n",
    "\n",
    "def main():\n",
    "    N, M = map(int, sys.stdin.readline().split())\n",
    "    ranges = [tuple(map(int, sys.stdin.readline().split())) for _ in range(M)]\n",
    "\n",
    "    # ВАЖНО: сортируем по началу и концу\n",
    "    ranges.sort(key=lambda x: (x[0], x[1]))\n",
    "\n",
    "    cnt_covered = 0\n",
    "    current_begin, current_end = -1, -1\n",
    "\n",
    "    for begin, end in ranges:\n",
    "        if begin > current_end:\n",
    "            if current_begin != -1:\n",
    "                cnt_covered += current_end - current_begin + 1\n",
    "            current_begin, current_end = begin, end\n",
    "        else:\n",
    "            current_end = max(current_end, end)\n",
    "\n",
    "    if current_begin != -1:\n",
    "        cnt_covered += current_end - current_begin + 1\n",
    "\n",
    "    print(N - cnt_covered)\n",
    "\n",
    "if __name__ == '__main__':\n",
    "    main()\n"
   ]
  },
  {
   "cell_type": "markdown",
   "metadata": {},
   "source": []
  }
 ],
 "metadata": {
  "kernelspec": {
   "display_name": ".venv",
   "language": "python",
   "name": "python3"
  },
  "language_info": {
   "codemirror_mode": {
    "name": "ipython",
    "version": 3
   },
   "file_extension": ".py",
   "mimetype": "text/x-python",
   "name": "python",
   "nbconvert_exporter": "python",
   "pygments_lexer": "ipython3",
   "version": "3.9.6"
  }
 },
 "nbformat": 4,
 "nbformat_minor": 2
}
