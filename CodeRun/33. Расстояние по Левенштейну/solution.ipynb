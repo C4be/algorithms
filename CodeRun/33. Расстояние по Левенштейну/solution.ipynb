{
 "cells": [
  {
   "cell_type": "markdown",
   "metadata": {},
   "source": [
    "# 33. Расстояние по Левенштейну"
   ]
  },
  {
   "cell_type": "markdown",
   "metadata": {},
   "source": [
    "## Информация"
   ]
  },
  {
   "cell_type": "markdown",
   "metadata": {},
   "source": [
    "легкое"
   ]
  },
  {
   "cell_type": "markdown",
   "metadata": {},
   "source": [
    "## Условие"
   ]
  },
  {
   "cell_type": "markdown",
   "metadata": {},
   "source": [
    "Дана текстовая строка. С ней можно выполнять следующие операции:\n",
    "\n",
    "1. **Заменить** один символ строки на другой символ.\n",
    "2. **Удалить** один произвольный символ.\n",
    "3. **Вставить** произвольный символ в произвольное место строки.\n",
    "\n",
    "Например, при помощи первой операции из строки «СОК» можно получить строку «СУК», при помощи второй операци — строку «ОК», при помощи третьей операции — строку «СТОК».\n",
    "\n",
    "Минимальное количество таких операций, при помощи которых можно из одной строки получить другую, называется **стоимостью редактирования** или **расстоянием Левенштейна**.\n",
    "\n",
    "Определите расстояние Левенштейна для двух данных строк.\n",
    "\n",
    "**Формат ввода**\n",
    "\n",
    "Программа получает на вход две строки, длина каждой из которых не превосходит 1000 символов, строки состоят только из заглавных латинских букв.\n",
    "\n",
    "**Формат вывода**\n",
    "\n",
    "Требуется вывести одно число — расстояние Левенштейна для данных строк."
   ]
  },
  {
   "cell_type": "markdown",
   "metadata": {},
   "source": [
    "## Решение №1 Расстояние Левенштейна с использованием рекурсивного подхода."
   ]
  },
  {
   "cell_type": "markdown",
   "metadata": {},
   "source": [
    "Пусть у нас будут 2-е строки: `str1` и `str2`, и их длинны соответственно `m`  и  `n`.\n",
    "Чтобы реализовать рекурсивное решение, нужно расписать базовые и рекурсивные случаи.\n",
    "\n",
    "> Обход строки идет справа налево!\n",
    "\n",
    "Базовый случай, если строка у нас в ходе рекурсивного спуска заканчивается, то следует возвращать оставшиеся символы другой строки:\n",
    "\n",
    "```python\n",
    "if m == 0:\n",
    "    return n\n",
    "if n == 0:\n",
    "    return m\n",
    "```\n",
    "\n",
    "Теперь стоит рассмотреть рекурсивные случаи:\n",
    "\n",
    "1. Случай, когда символы совпадают, то это не увеличивает расстояние:\n",
    "   \n",
    "    ```python\n",
    "    return levenshteinRecursive(str1, str2, m - 1, n - 1)\n",
    "    ```\n",
    "\n",
    "2. Случай, когда символы различаются, то нужно будет найти минимум из 3-x операций - `Insert`, `Delete`, `Replace`:\n",
    "\n",
    "    **Insert:** Вставляем последний символ `str2[n - 1]` в `str1`.\n",
    "    Тогда `str2` становится короче `(n-1)`, а `str1` остаётся.    \n",
    "\n",
    "    **Delete:** Удаляем символ из `str1`, значит она становится короче `(m-1)`.\n",
    "\n",
    "    **Replace:** Меняем символ `str1[m - 1]` на `str2[n - 1]`, и обе строки сдвигаются назад.\n",
    "\n",
    "    ```python\n",
    "    return 1 + min(\n",
    "        levenshteinRecursive(str1, str2, m, n - 1),  # Insert\n",
    "        levenshteinRecursive(str1, str2, m - 1, n),  # Remove\n",
    "        levenshteinRecursive(str1, str2, m - 1, n - 1)  # Replace\n",
    "    )\n",
    "    ```"
   ]
  },
  {
   "cell_type": "markdown",
   "metadata": {},
   "source": [
    "### Готовое решение"
   ]
  },
  {
   "cell_type": "code",
   "execution_count": 6,
   "metadata": {},
   "outputs": [
    {
     "name": "stdout",
     "output_type": "stream",
     "text": [
      "Distance = 3\n"
     ]
    }
   ],
   "source": [
    "def levenshteinRecursive(str1: str, str2: str, m: int, n: int) -> int:\n",
    "    # base\n",
    "    if m == 0:\n",
    "        return n\n",
    "    if n == 0:\n",
    "        return m\n",
    "    \n",
    "    # recursive\n",
    "    if str1[m - 1] == str2[n - 1]:\n",
    "        return levenshteinRecursive(str1, str2, m - 1, n - 1)\n",
    "    \n",
    "    return 1 + min(\n",
    "        levenshteinRecursive(str1, str2, m, n - 1),  # Insert\n",
    "        levenshteinRecursive(str1, str2, m - 1, n),  # Remove\n",
    "        levenshteinRecursive(str1, str2, m - 1, n - 1)  # Replace\n",
    "    )\n",
    "    \n",
    "    \n",
    "s1 = 'ABCDEFGH'\n",
    "s2 = 'ACDEXGIH'\n",
    "\n",
    "print(f'Distance = {levenshteinRecursive(s1, s2, len(s1), len(s2))}')"
   ]
  },
  {
   "cell_type": "markdown",
   "metadata": {},
   "source": [
    "### Сложность"
   ]
  },
  {
   "cell_type": "markdown",
   "metadata": {},
   "source": [
    "По времени: $O(3^{m+n})$\n",
    "\n",
    "По памяти: $O(m+n)$"
   ]
  },
  {
   "cell_type": "markdown",
   "metadata": {},
   "source": [
    "## Решение №2 Через динамическое программирование."
   ]
  },
  {
   "cell_type": "markdown",
   "metadata": {},
   "source": [
    "![matrix](./../imgs/33.jpg)"
   ]
  },
  {
   "cell_type": "markdown",
   "metadata": {},
   "source": [
    "Идея в том, чтобы создать матрицу, которая показывает, минимальное кол-во операция для преобразования каждой подстроки `str1[:i]` в `str2[:j]`\n",
    "\n",
    "Инициализация матрицы (пример):\n",
    "\n",
    "```bash\n",
    "str1 = \"kitten\"\n",
    "str2 = \"sitting\"\n",
    "    ''  s  i  t  t  i  n  g\n",
    "   +------------------------\n",
    "'' | 0  1  2  3  4  5  6  7\n",
    "k  | 1\n",
    "i  | 2\n",
    "t  | 3\n",
    "t  | 4\n",
    "e  | 5\n",
    "n  | 6\n",
    "```\n",
    "\n",
    "- Верхняя строка и первый столбец означают: сколько операций нужно, если одна из строк пуста. Например, чтобы превратить '' в \"sitt\" нужно 4 вставки.\n",
    "\n",
    "Будем идти построчно, сравнивая `str1[i - 1]` и `str2[j - 1]`.\n",
    "Если они равны — просто копируем значение из `dp[i - 1][j - 1]`.\n",
    "Иначе — берём минимум из трёх возможных операций `+ 1`.\n",
    "\n",
    "Пример:\n",
    "\n",
    "```python\n",
    "dp[1][1] = 1 + min(\n",
    "    dp[0][1],  # удаление\n",
    "    dp[1][0],  # вставка\n",
    "    dp[0][0]   # замена ← минимально\n",
    ") = 1\n",
    "```\n",
    "\n",
    "Значит, чтобы \"k\" превратить в \"s\" → одна операция (замена 'k' на 's')."
   ]
  },
  {
   "cell_type": "markdown",
   "metadata": {},
   "source": [
    "### Готовое решение"
   ]
  },
  {
   "cell_type": "code",
   "execution_count": null,
   "metadata": {},
   "outputs": [
    {
     "name": "stdout",
     "output_type": "stream",
     "text": [
      "Distance = 3\n"
     ]
    }
   ],
   "source": [
    "def levenshteinDP(str1: str, str2: str) -> int:\n",
    "    n = len(str1)  # строки\n",
    "    m = len(str2)  # столбцы\n",
    "\n",
    "    dp = [[0 for _ in range(m + 1)] for _ in range(n + 1)]\n",
    "\n",
    "    # инициализация\n",
    "    for i in range(n + 1):\n",
    "        dp[i][0] = i\n",
    "    for j in range(m + 1):\n",
    "        dp[0][j] = j\n",
    "\n",
    "    # заполнение\n",
    "    for i in range(1, n + 1):\n",
    "        for j in range(1, m + 1):\n",
    "            if str1[i - 1] == str2[j - 1]:\n",
    "                dp[i][j] = dp[i - 1][j - 1]\n",
    "            else:\n",
    "                dp[i][j] = 1 + min(\n",
    "                    dp[i - 1][j],    # удаление\n",
    "                    dp[i][j - 1],    # вставка\n",
    "                    dp[i - 1][j - 1] # замена\n",
    "                )\n",
    "\n",
    "    return dp[n][m]\n",
    "\n",
    "\n",
    "s1 = 'ABCDEFGH'\n",
    "s2 = 'ACDEXGIH'\n",
    "\n",
    "print(f'Distance = {levenshteinDP(s1, s2)}')"
   ]
  },
  {
   "cell_type": "markdown",
   "metadata": {},
   "source": [
    "### Сложность"
   ]
  },
  {
   "cell_type": "markdown",
   "metadata": {},
   "source": [
    "По времени: $O(n * m)$\n",
    "\n",
    "По памяти: $O(n * m)$"
   ]
  }
 ],
 "metadata": {
  "kernelspec": {
   "display_name": ".venv",
   "language": "python",
   "name": "python3"
  },
  "language_info": {
   "codemirror_mode": {
    "name": "ipython",
    "version": 3
   },
   "file_extension": ".py",
   "mimetype": "text/x-python",
   "name": "python",
   "nbconvert_exporter": "python",
   "pygments_lexer": "ipython3",
   "version": "3.9.6"
  }
 },
 "nbformat": 4,
 "nbformat_minor": 2
}
