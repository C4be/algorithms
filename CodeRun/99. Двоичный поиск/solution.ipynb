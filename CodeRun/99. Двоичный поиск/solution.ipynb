{
 "cells": [
  {
   "cell_type": "markdown",
   "metadata": {},
   "source": [
    "# 99. Двоичный поиск"
   ]
  },
  {
   "cell_type": "markdown",
   "metadata": {},
   "source": [
    "## Информация\n",
    "\n",
    "Сложность: easy\n",
    "\n",
    "Ссылка на задачу: [link](https://coderun.yandex.ru/problem/binary-search)"
   ]
  },
  {
   "cell_type": "markdown",
   "metadata": {},
   "source": [
    "## Условие задачи"
   ]
  },
  {
   "cell_type": "markdown",
   "metadata": {},
   "source": [
    "Реализуйте двоичный поиск в массиве\n",
    "\n",
    "**Формат ввода**\n",
    "\n",
    "В первой строке входных данных содержатся натуральные числа $(0<N,K≤100000)$. Во второй строке задаются $N$ элементов первого массива, а в третьей строке – $K$ элементов второго массива. Элементы обоих массивов - целые числа, каждое из которых по модулю не превосходит $10^9$\n",
    " \n",
    "\n",
    "**Формат вывода**\n",
    "\n",
    "Требуется для каждого из K чисел вывести в отдельную строку \"YES\", если это число встречается в первом массиве, и \"NO\" в противном случае."
   ]
  },
  {
   "cell_type": "markdown",
   "metadata": {},
   "source": [
    "## Решение №1 Реализация бинарного поиска"
   ]
  },
  {
   "cell_type": "markdown",
   "metadata": {},
   "source": [
    "> **Бинарный поиск** — это эффективный алгоритм поиска элемента в **отсортированном массиве**. Его идея заключается в последовательном делении массива пополам, чтобы сократить область поиска.\n",
    "\n",
    "**Условия применения:** массив должен быть **отсортирован** (по возрастанию или убыванию).\n",
    "\n",
    "### Суть алгоритма:\n",
    "\n",
    "1. Задаются границы поиска: `левый` и `правый` указатели.\n",
    "\n",
    "    ```python\n",
    "    left: int = 0\n",
    "    right: int = len(sourse) - 1\n",
    "    ```\n",
    "\n",
    "2. Вычисляется середина: `середина = (левый + правый) // 2`.\n",
    "\n",
    "    ```python\n",
    "    mid: int = (right + left) // 2\n",
    "    ```\n",
    "\n",
    "3. Сравнивается значение в середине с искомым элементом:\n",
    "   - Если нашли — возвращаем индекс.\n",
    "   - Если искомое меньше — продолжаем поиск в **левой** половине.\n",
    "   - Если больше — в **правой** половине.\n",
    "\n",
    "    ```python\n",
    "    if sourse[mid] == target:\n",
    "        return True\n",
    "    elif sourse[mid] > target:\n",
    "        right = mid - 1\n",
    "    else:\n",
    "        left = mid + 1\n",
    "    ```\n",
    "\n",
    "4. Повторяем, пока границы не сомкнутся.\n",
    "\n",
    "    ```python\n",
    "    while left <= right:\n",
    "        pass\n",
    "    ```"
   ]
  },
  {
   "cell_type": "code",
   "execution_count": 7,
   "metadata": {},
   "outputs": [
    {
     "name": "stdout",
     "output_type": "stream",
     "text": [
      "Поиск 1 -> True\n",
      "Поиск 2 -> True\n",
      "Поиск 3 -> True\n",
      "Поиск 4 -> False\n",
      "Поиск 5 -> False\n"
     ]
    }
   ],
   "source": [
    "def binary_search(sourse: list, target: int) -> bool:\n",
    "    left: int = 0\n",
    "    right: int = len(sourse) - 1\n",
    "    \n",
    "    \n",
    "    while left <= right:\n",
    "        \n",
    "        mid: int = (right + left) // 2\n",
    "        \n",
    "        if sourse[mid] == target:\n",
    "            return True\n",
    "        elif sourse[mid] > target:\n",
    "            right = mid - 1\n",
    "        else:\n",
    "            left = mid + 1\n",
    "            \n",
    "    return False\n",
    "\n",
    "\n",
    "s = [1, 2, 3, 4, 5, 6, 7, 8]\n",
    "\n",
    "print(f'Поиск 1 -> {binary_search(s, 5)}')\n",
    "print(f'Поиск 2 -> {binary_search(s, 8)}')\n",
    "print(f'Поиск 3 -> {binary_search(s, 1)}')\n",
    "print(f'Поиск 4 -> {binary_search(s, 25)}')\n",
    "print(f'Поиск 5 -> {binary_search(s, -10)}')"
   ]
  },
  {
   "cell_type": "markdown",
   "metadata": {},
   "source": [
    "### Сложность\n",
    "\n",
    "- по времени: $O(\\log n)$\n",
    "- по памяти: $O(1)$"
   ]
  },
  {
   "cell_type": "markdown",
   "metadata": {},
   "source": [
    "## Готовое решение"
   ]
  },
  {
   "cell_type": "code",
   "execution_count": 9,
   "metadata": {},
   "outputs": [
    {
     "name": "stdout",
     "output_type": "stream",
     "text": [
      "NO\n",
      "YES\n",
      "NO\n",
      "YES\n",
      "YES\n",
      "YES\n",
      "YES\n",
      "NO\n",
      "YES\n",
      "YES\n"
     ]
    }
   ],
   "source": [
    "def binary_search(sourse: list, target: int) -> bool:\n",
    "    left: int = 0\n",
    "    right: int = len(sourse) - 1\n",
    "    \n",
    "    \n",
    "    while left <= right:\n",
    "        \n",
    "        mid: int = (right + left) // 2\n",
    "        \n",
    "        if sourse[mid] == target:\n",
    "            return True\n",
    "        elif sourse[mid] > target:\n",
    "            right = mid - 1\n",
    "        else:\n",
    "            left = mid + 1\n",
    "            \n",
    "    return False\n",
    "\n",
    "\n",
    "file_path = 'ds2.txt'  # <- есть два тестовых варианта \"ds1.txt\" и \"ds2.txt\"\n",
    "with open(file_path, 'r') as f:\n",
    "    n, k = list(map(lambda x: int(x), f.readline().strip().split()))\n",
    "    nl = list(map(lambda x: int(x), f.readline().strip().split()))\n",
    "    kl = list(map(lambda x: int(x), f.readline().strip().split()))\n",
    "    \n",
    "for el in kl:\n",
    "    if binary_search(nl, el):\n",
    "        print('YES')\n",
    "    else:\n",
    "        print('NO')"
   ]
  }
 ],
 "metadata": {
  "kernelspec": {
   "display_name": ".venv",
   "language": "python",
   "name": "python3"
  },
  "language_info": {
   "codemirror_mode": {
    "name": "ipython",
    "version": 3
   },
   "file_extension": ".py",
   "mimetype": "text/x-python",
   "name": "python",
   "nbconvert_exporter": "python",
   "pygments_lexer": "ipython3",
   "version": "3.9.6"
  }
 },
 "nbformat": 4,
 "nbformat_minor": 2
}
