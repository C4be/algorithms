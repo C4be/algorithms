{
 "cells": [
  {
   "cell_type": "markdown",
   "metadata": {},
   "source": [
    "# 12. Длина кратчайшего пути"
   ]
  },
  {
   "cell_type": "markdown",
   "metadata": {},
   "source": [
    "level: `easy`"
   ]
  },
  {
   "cell_type": "markdown",
   "metadata": {},
   "source": [
    "## Задача\n",
    "\n",
    "Дан неориентированный граф. Найдите длину минимального пути между двумя вершинами.\n",
    "\n",
    "### Формат ввода\n",
    "\n",
    "В первой строке записано целое число N (1≤N≤100) – количество вершин в графе.\n",
    "\n",
    "Далее записывается матрица смежности — N строк, в каждой из которых содержится N чисел 0 или 1, разделённых пробелом. \n",
    "Число 0 означает отсутствие ребра, а 1 — наличие ребра.\n",
    "\n",
    "В последней строке задаются номера двух вершин — начальной и конечной.\n",
    "\n",
    "Вершины нумеруются с единицы.\n",
    "\n",
    "### Формат вывода\n",
    "\n",
    "Выведите длину кратчайшего пути — минимальное количество ребер, которые нужно пройти.\n",
    "\n",
    "Если пути нет, нужно вывести -1.\n",
    "\n",
    "### Ограничения\n",
    "\n",
    "**Ограничение времени** 1 с\n",
    "**Ограничение памяти** 64 МБ\n",
    "\n",
    "### Пример №1\n",
    "\n",
    "**Ввод**\n",
    "\n",
    "```bash\n",
    "10\n",
    "0 1 0 0 0 0 0 0 0 0 \n",
    "1 0 0 1 1 0 1 0 0 0 \n",
    "0 0 0 0 1 0 0 0 1 0 \n",
    "0 1 0 0 0 0 1 0 0 0 \n",
    "0 1 1 0 0 0 0 0 0 1 \n",
    "0 0 0 0 0 0 1 0 0 1 \n",
    "0 1 0 1 0 1 0 0 0 0 \n",
    "0 0 0 0 0 0 0 0 1 0 \n",
    "0 0 1 0 0 0 0 1 0 0 \n",
    "0 0 0 0 1 1 0 0 0 0 \n",
    "5 4\n",
    "```\n",
    "\n",
    "**Вывод**\n",
    "\n",
    "```bash\n",
    "2\n",
    "```\n",
    "\n",
    "### Пример №2\n",
    "\n",
    "**Ввод**\n",
    "\n",
    "```bash\n",
    "5\n",
    "0 1 0 0 1 \n",
    "1 0 1 0 0 \n",
    "0 1 0 0 0 \n",
    "0 0 0 0 0 \n",
    "1 0 0 0 0 \n",
    "3 5\n",
    "```\n",
    "\n",
    "**Вывод**\n",
    "\n",
    "```bash\n",
    "3\n",
    "```"
   ]
  },
  {
   "cell_type": "markdown",
   "metadata": {},
   "source": [
    "## Решение"
   ]
  },
  {
   "cell_type": "markdown",
   "metadata": {},
   "source": [
    "1. Правильное считывание данных"
   ]
  },
  {
   "cell_type": "code",
   "execution_count": 45,
   "metadata": {},
   "outputs": [
    {
     "name": "stdout",
     "output_type": "stream",
     "text": [
      "10\n",
      "[0, 1, 0, 0, 0, 0, 0, 0, 0, 0]\n",
      "[1, 0, 0, 1, 1, 0, 1, 0, 0, 0]\n",
      "[0, 0, 0, 0, 1, 0, 0, 0, 1, 0]\n",
      "[0, 1, 0, 0, 0, 0, 1, 0, 0, 0]\n",
      "[0, 1, 1, 0, 0, 0, 0, 0, 0, 1]\n",
      "[0, 0, 0, 0, 0, 0, 1, 0, 0, 1]\n",
      "[0, 1, 0, 1, 0, 1, 0, 0, 0, 0]\n",
      "[0, 0, 0, 0, 0, 0, 0, 0, 1, 0]\n",
      "[0, 0, 1, 0, 0, 0, 0, 1, 0, 0]\n",
      "[0, 0, 0, 0, 1, 1, 0, 0, 0, 0]\n",
      "4 3\n"
     ]
    }
   ],
   "source": [
    "file_path = 'ds/ds1.txt'  # путь до файла с информацией\n",
    "\n",
    "with open(file_path, 'r') as file:\n",
    "    n = int(file.readline().strip())\n",
    "    graph = [list(map(lambda x: int(x), file.readline().strip().split(' '))) for _ in range(n)]\n",
    "    start, end = list(map(lambda x: int(x) - 1, file.readline().strip().split(' ')))\n",
    "\n",
    "# check\n",
    "print(n)\n",
    "print(*graph, sep='\\n')\n",
    "print(start, end)"
   ]
  },
  {
   "cell_type": "markdown",
   "metadata": {},
   "source": [
    "2. Визуализируем граф"
   ]
  },
  {
   "cell_type": "code",
   "execution_count": 46,
   "metadata": {},
   "outputs": [
    {
     "data": {
      "image/png": "[encoded data removed]",
      "text/plain": [
       "<Figure size 400x300 with 1 Axes>"
      ]
     },
     "metadata": {},
     "output_type": "display_data"
    }
   ],
   "source": [
    "import networkx as nx\n",
    "import matplotlib.pyplot as plt\n",
    "\n",
    "G = nx.Graph()\n",
    "\n",
    "# Добавляем вершины\n",
    "G.add_nodes_from(range(n))\n",
    "\n",
    "# Добавляем рёбра\n",
    "for i in range(n):\n",
    "    for j in range(i + 1, n):  # избегаем дублирования рёбер\n",
    "        if graph[i][j]:\n",
    "            G.add_edge(i, j)\n",
    "            \n",
    "# Цвета для вершин\n",
    "node_colors = []\n",
    "for node in G.nodes():\n",
    "    if node in (start, end):\n",
    "        node_colors.append('green')  # начальная и конечная — красные\n",
    "    else:\n",
    "        node_colors.append('lightblue')  # остальные — синие\n",
    "        \n",
    "# Отображение графа\n",
    "pos = nx.spring_layout(G)  # расположение узлов\n",
    "plt.figure(figsize=(4, 3))\n",
    "nx.draw(\n",
    "    G, pos, with_labels=True, node_color=node_colors,\n",
    "    node_size=600, font_size=12, font_weight='bold', edge_color='black'\n",
    ")\n",
    "plt.title(f'Граф из файла (выделены вершины start = {start} и end = {end})')\n",
    "plt.show()"
   ]
  },
  {
   "cell_type": "markdown",
   "metadata": {},
   "source": [
    "3. Опишем обход графа в ширину на матрице смежности"
   ]
  },
  {
   "cell_type": "code",
   "execution_count": 47,
   "metadata": {},
   "outputs": [
    {
     "name": "stdout",
     "output_type": "stream",
     "text": [
      "4 1 2 9 0 3 6 8 5 7 "
     ]
    }
   ],
   "source": [
    "# классический обход графа в ширину\n",
    "\n",
    "def bfs(graph, n, start):\n",
    "    \n",
    "    visited = [False] * n\n",
    "    q = [start]\n",
    "    \n",
    "    visited[start] = True\n",
    "    \n",
    "    while q:\n",
    "        vis = q[0]\n",
    "        \n",
    "        # Print current node\n",
    "        print(vis, end = ' ')\n",
    "        q.pop(0)\n",
    "        \n",
    "        for i in range(n):\n",
    "            if graph[vis][i] == 1 and not visited[i]:\n",
    "                q.append(i)\n",
    "                visited[i] = True\n",
    "                \n",
    "bfs(graph, n, start)"
   ]
  },
  {
   "cell_type": "code",
   "execution_count": 48,
   "metadata": {},
   "outputs": [
    {
     "name": "stdout",
     "output_type": "stream",
     "text": [
      "Минимальное расстояние от 4 до 3: 2\n",
      "Путь: 4 -> 1 -> 3\n"
     ]
    },
    {
     "data": {
      "text/plain": [
       "(2, [4, 1, 3])"
      ]
     },
     "execution_count": 48,
     "metadata": {},
     "output_type": "execute_result"
    }
   ],
   "source": [
    "def bfs_shortest_distance(graph, n, start, end):\n",
    "    visited = [False] * n\n",
    "    distance = [0] * n  # расстояния от start\n",
    "    parent = [-1] * n   # для восстановления пути (если нужно)\n",
    "    \n",
    "    q = [start]\n",
    "    visited[start] = True\n",
    "    \n",
    "    while q:\n",
    "        current = q[0]\n",
    "        q.pop(0)\n",
    "        \n",
    "        if current == end:\n",
    "            break  # можно выйти раньше, если дошли до цели\n",
    "        \n",
    "        for neighbor in range(n):\n",
    "            if graph[current][neighbor] == 1 and not visited[neighbor]:\n",
    "                visited[neighbor] = True\n",
    "                distance[neighbor] = distance[current] + 1\n",
    "                parent[neighbor] = current\n",
    "                q.append(neighbor)\n",
    "    \n",
    "    if visited[end]:\n",
    "        print(f\"Минимальное расстояние от {start} до {end}: {distance[end]}\")\n",
    "        \n",
    "        # Восстановим путь, если нужно\n",
    "        path = []\n",
    "        v = end\n",
    "        while v != -1:\n",
    "            path.append(v)\n",
    "            v = parent[v]\n",
    "        path.reverse()\n",
    "        print(\"Путь:\", ' -> '.join(map(str, path)))\n",
    "        return distance[end], path\n",
    "    else:\n",
    "        print(f\"Путь от {start} до {end} не существует\")\n",
    "        return -1, []\n",
    "\n",
    "bfs_shortest_distance(graph, n, start, end)"
   ]
  }
 ],
 "metadata": {
  "kernelspec": {
   "display_name": ".venv",
   "language": "python",
   "name": "python3"
  },
  "language_info": {
   "codemirror_mode": {
    "name": "ipython",
    "version": 3
   },
   "file_extension": ".py",
   "mimetype": "text/x-python",
   "name": "python",
   "nbconvert_exporter": "python",
   "pygments_lexer": "ipython3",
   "version": "3.9.6"
  }
 },
 "nbformat": 4,
 "nbformat_minor": 2
}
