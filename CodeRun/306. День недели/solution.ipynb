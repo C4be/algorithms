{
 "cells": [
  {
   "cell_type": "code",
   "execution_count": null,
   "metadata": {},
   "outputs": [
    {
     "name": "stdout",
     "output_type": "stream",
     "text": [
      "Thursday\n",
      "Thursday\n"
     ]
    }
   ],
   "source": [
    "print(zellers_formula('1 January 2015'))\n",
    "print(zellers_formula('31 December 2015'))"
   ]
  },
  {
   "cell_type": "code",
   "execution_count": 19,
   "metadata": {},
   "outputs": [],
   "source": [
    "import math\n",
    "\n",
    "zeller_months = {\n",
    "    \"March\": 3,\n",
    "    \"April\": 4,\n",
    "    \"May\": 5,\n",
    "    \"June\": 6,\n",
    "    \"July\": 7,\n",
    "    \"August\": 8,\n",
    "    \"September\": 9,\n",
    "    \"October\": 10,\n",
    "    \"November\": 11,\n",
    "    \"December\": 12,\n",
    "    \"January\": 13,   # January is treated as the 13th month of the previous year\n",
    "    \"February\": 14   # February is treated as the 14th month of the previous year\n",
    "}\n",
    "\n",
    "days = {\n",
    "    0: \"Saturday\",\n",
    "    1: \"Sunday\",\n",
    "    2: \"Monday\",\n",
    "    3: \"Tuesday\",\n",
    "    4: \"Wednesday\",\n",
    "    5: \"Thursday\",\n",
    "    6: \"Friday\"\n",
    "}\n",
    "\n",
    "def zellers_formula(date: str) -> str:\n",
    "    day, month, year = date.split(\" \")\n",
    "\n",
    "    q = int(day)\n",
    "    m = zeller_months[month.capitalize()]\n",
    "    y = int(year)\n",
    "\n",
    "    # Adjust year if month is January or February\n",
    "    if m == 13 or m == 14:\n",
    "        y -= 1\n",
    "\n",
    "    K = y % 100\n",
    "    J = y // 100\n",
    "\n",
    "    h = (q + math.floor(13 * (m + 1) / 5) + K + math.floor(K / 4) + math.floor(J / 4) + 5 * J) % 7\n",
    "\n",
    "    return days[h]\n"
   ]
  },
  {
   "cell_type": "code",
   "execution_count": 20,
   "metadata": {},
   "outputs": [
    {
     "name": "stdout",
     "output_type": "stream",
     "text": [
      "Thursday\n",
      "Thursday\n"
     ]
    }
   ],
   "source": [
    "print(zellers_formula('1 January 2015'))\n",
    "print(zellers_formula('31 December 2015'))"
   ]
  }
 ],
 "metadata": {
  "kernelspec": {
   "display_name": ".venv",
   "language": "python",
   "name": "python3"
  },
  "language_info": {
   "codemirror_mode": {
    "name": "ipython",
    "version": 3
   },
   "file_extension": ".py",
   "mimetype": "text/x-python",
   "name": "python",
   "nbconvert_exporter": "python",
   "pygments_lexer": "ipython3",
   "version": "3.9.6"
  }
 },
 "nbformat": 4,
 "nbformat_minor": 2
}
